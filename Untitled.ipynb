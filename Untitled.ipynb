{
 "cells": [
  {
   "cell_type": "code",
   "execution_count": 2,
   "metadata": {},
   "outputs": [
    {
     "name": "stdout",
     "output_type": "stream",
     "text": [
      "WARNING: pip is being invoked by an old script wrapper. This will fail in a future version of pip.\n",
      "Please see https://github.com/pypa/pip/issues/5599 for advice on fixing the underlying issue.\n",
      "To avoid this problem you can invoke Python with '-m pip' instead of running pip directly.\n",
      "Requirement already satisfied: pip in /home/bacemabr/snap/jupyter/common/lib/python3.7/site-packages (22.0.3)\n",
      "Requirement already satisfied: setuptools in /home/bacemabr/snap/jupyter/common/lib/python3.7/site-packages (60.8.2)\n",
      "Requirement already satisfied: wheel in /home/bacemabr/snap/jupyter/common/lib/python3.7/site-packages (0.37.1)\n",
      "WARNING: pip is being invoked by an old script wrapper. This will fail in a future version of pip.\n",
      "Please see https://github.com/pypa/pip/issues/5599 for advice on fixing the underlying issue.\n",
      "To avoid this problem you can invoke Python with '-m pip' instead of running pip directly.\n",
      "Requirement already satisfied: opencv-python in /home/bacemabr/snap/jupyter/common/lib/python3.7/site-packages (4.5.5.62)\n",
      "Requirement already satisfied: mediapipe in /home/bacemabr/snap/jupyter/common/lib/python3.7/site-packages (0.8.9.1)\n",
      "Requirement already satisfied: numpy>=1.14.5 in /home/bacemabr/snap/jupyter/common/lib/python3.7/site-packages (from opencv-python) (1.17.4)\n",
      "Requirement already satisfied: opencv-contrib-python in /home/bacemabr/snap/jupyter/common/lib/python3.7/site-packages (from mediapipe) (4.5.5.62)\n",
      "Requirement already satisfied: absl-py in /home/bacemabr/snap/jupyter/common/lib/python3.7/site-packages (from mediapipe) (0.8.1)\n",
      "Requirement already satisfied: protobuf>=3.11.4 in /home/bacemabr/snap/jupyter/common/lib/python3.7/site-packages (from mediapipe) (3.19.4)\n",
      "Requirement already satisfied: matplotlib in /home/bacemabr/snap/jupyter/common/lib/python3.7/site-packages (from mediapipe) (3.5.1)\n",
      "Requirement already satisfied: attrs>=19.1.0 in /snap/jupyter/6/lib/python3.7/site-packages (from mediapipe) (19.1.0)\n",
      "Requirement already satisfied: six in /snap/jupyter/6/lib/python3.7/site-packages (from absl-py->mediapipe) (1.12.0)\n",
      "Requirement already satisfied: cycler>=0.10 in /home/bacemabr/snap/jupyter/common/lib/python3.7/site-packages (from matplotlib->mediapipe) (0.11.0)\n",
      "Requirement already satisfied: python-dateutil>=2.7 in /snap/jupyter/6/lib/python3.7/site-packages (from matplotlib->mediapipe) (2.8.0)\n",
      "Requirement already satisfied: fonttools>=4.22.0 in /home/bacemabr/snap/jupyter/common/lib/python3.7/site-packages (from matplotlib->mediapipe) (4.29.1)\n",
      "Requirement already satisfied: packaging>=20.0 in /home/bacemabr/snap/jupyter/common/lib/python3.7/site-packages (from matplotlib->mediapipe) (21.3)\n",
      "Requirement already satisfied: pillow>=6.2.0 in /home/bacemabr/snap/jupyter/common/lib/python3.7/site-packages (from matplotlib->mediapipe) (6.2.1)\n",
      "Requirement already satisfied: pyparsing>=2.2.1 in /home/bacemabr/snap/jupyter/common/lib/python3.7/site-packages (from matplotlib->mediapipe) (3.0.7)\n",
      "Requirement already satisfied: kiwisolver>=1.0.1 in /home/bacemabr/snap/jupyter/common/lib/python3.7/site-packages (from matplotlib->mediapipe) (1.3.2)\n"
     ]
    }
   ],
   "source": [
    "!pip install --upgrade pip setuptools wheel\n",
    "\n",
    "!pip install  opencv-python mediapipe"
   ]
  },
  {
   "cell_type": "code",
   "execution_count": 12,
   "metadata": {},
   "outputs": [
    {
     "name": "stdout",
     "output_type": "stream",
     "text": [
      "/bin/sh: 1: sudo: Permission denied\r\n"
     ]
    }
   ],
   "source": [
    "!sudo apt install libgl1-mesa-glx\n"
   ]
  },
  {
   "cell_type": "code",
   "execution_count": 3,
   "metadata": {},
   "outputs": [
    {
     "ename": "ImportError",
     "evalue": "libGL.so.1: cannot open shared object file: No such file or directory",
     "output_type": "error",
     "traceback": [
      "\u001b[0;31m---------------------------------------------------------------------------\u001b[0m",
      "\u001b[0;31mImportError\u001b[0m                               Traceback (most recent call last)",
      "\u001b[0;32m<ipython-input-3-14a23a7cc981>\u001b[0m in \u001b[0;36m<module>\u001b[0;34m\u001b[0m\n\u001b[0;32m----> 1\u001b[0;31m \u001b[0;32mimport\u001b[0m \u001b[0mcv2\u001b[0m\u001b[0;34m\u001b[0m\u001b[0;34m\u001b[0m\u001b[0m\n\u001b[0m\u001b[1;32m      2\u001b[0m \u001b[0;32mimport\u001b[0m \u001b[0mmediapipe\u001b[0m \u001b[0;32mas\u001b[0m \u001b[0mmp\u001b[0m\u001b[0;34m\u001b[0m\u001b[0;34m\u001b[0m\u001b[0m\n\u001b[1;32m      3\u001b[0m \u001b[0;32mimport\u001b[0m \u001b[0mnumpy\u001b[0m \u001b[0;32mas\u001b[0m \u001b[0mnp\u001b[0m\u001b[0;34m\u001b[0m\u001b[0;34m\u001b[0m\u001b[0m\n",
      "\u001b[0;32m/home/bacemabr/snap/jupyter/common/lib/python3.7/site-packages/cv2/__init__.py\u001b[0m in \u001b[0;36m<module>\u001b[0;34m\u001b[0m\n\u001b[1;32m      6\u001b[0m \u001b[0;32mimport\u001b[0m \u001b[0msys\u001b[0m\u001b[0;34m\u001b[0m\u001b[0;34m\u001b[0m\u001b[0m\n\u001b[1;32m      7\u001b[0m \u001b[0;34m\u001b[0m\u001b[0m\n\u001b[0;32m----> 8\u001b[0;31m \u001b[0;32mfrom\u001b[0m \u001b[0;34m.\u001b[0m\u001b[0mcv2\u001b[0m \u001b[0;32mimport\u001b[0m \u001b[0;34m*\u001b[0m\u001b[0;34m\u001b[0m\u001b[0;34m\u001b[0m\u001b[0m\n\u001b[0m\u001b[1;32m      9\u001b[0m \u001b[0;32mfrom\u001b[0m \u001b[0;34m.\u001b[0m\u001b[0mcv2\u001b[0m \u001b[0;32mimport\u001b[0m \u001b[0m_registerMatType\u001b[0m\u001b[0;34m\u001b[0m\u001b[0;34m\u001b[0m\u001b[0m\n\u001b[1;32m     10\u001b[0m \u001b[0;32mfrom\u001b[0m \u001b[0;34m.\u001b[0m \u001b[0;32mimport\u001b[0m \u001b[0mmat_wrapper\u001b[0m\u001b[0;34m\u001b[0m\u001b[0;34m\u001b[0m\u001b[0m\n",
      "\u001b[0;31mImportError\u001b[0m: libGL.so.1: cannot open shared object file: No such file or directory"
     ]
    }
   ],
   "source": [
    "import cv2\n",
    "import mediapipe as mp\n",
    "import numpy as np"
   ]
  },
  {
   "cell_type": "code",
   "execution_count": null,
   "metadata": {},
   "outputs": [],
   "source": []
  }
 ],
 "metadata": {
  "kernelspec": {
   "display_name": "Python 3",
   "language": "python",
   "name": "python3"
  },
  "language_info": {
   "codemirror_mode": {
    "name": "ipython",
    "version": 3
   },
   "file_extension": ".py",
   "mimetype": "text/x-python",
   "name": "python",
   "nbconvert_exporter": "python",
   "pygments_lexer": "ipython3",
   "version": "3.7.3"
  }
 },
 "nbformat": 4,
 "nbformat_minor": 2
}
